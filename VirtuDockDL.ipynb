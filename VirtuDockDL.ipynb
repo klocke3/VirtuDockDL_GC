{
  "cells": [
    {
      "cell_type": "code",
      "execution_count": null,
      "metadata": {
        "id": "V7-fqj__3gA8"
      },
      "outputs": [],
      "source": [
        "!sudo apt-get update -y\n",
        "!sudo apt-get install python3.9 python3.9-distutils python3.9-dev -y"
      ]
    },
    {
      "cell_type": "code",
      "execution_count": null,
      "metadata": {
        "id": "fTecVB153vYh"
      },
      "outputs": [],
      "source": [
        "!wget https://bootstrap.pypa.io/get-pip.py\n",
        "!python3.9 get-pip.py"
      ]
    },
    {
      "cell_type": "code",
      "source": [
        "!python3.9 -m pip install dgl==1.1.3"
      ],
      "metadata": {
        "id": "GSO7dY5FY3Po"
      },
      "execution_count": null,
      "outputs": []
    },
    {
      "cell_type": "code",
      "execution_count": null,
      "metadata": {
        "id": "PxlcTFCoRwsm"
      },
      "outputs": [],
      "source": [
        "!python3.9 -m pip install torch==2.2.0 torchvision==0.17.0 torchaudio==2.2.0"
      ]
    },
    {
      "cell_type": "code",
      "execution_count": null,
      "metadata": {
        "id": "r2IqOakz1KDh"
      },
      "outputs": [],
      "source": [
        "!python3.9 -m pip install --ignore-installed blinker flask\n",
        "!python3.9 -m pip install pandas \"numpy<2.0\" scikit-learn matplotlib rdkit biopython\n",
        "!python3.9 -m pip install openmm\n",
        "!python3.9 -m pip install torch_geometric -q\n",
        "!python3.9 -m pip install pyyaml pydantic\n",
        "!python3.9 -m pip install flask\n",
        "!python3.9 -m pip install pyngrok"
      ]
    },
    {
      "cell_type": "code",
      "execution_count": 7,
      "metadata": {
        "id": "nMiWodVBPLb1"
      },
      "outputs": [],
      "source": [
        "!git clone https://github.com/FatimaNoor74/VirtuDockDL.git > /dev/null 2>&1"
      ]
    },
    {
      "cell_type": "code",
      "execution_count": 8,
      "metadata": {
        "id": "Qpm93oWtBO6k"
      },
      "outputs": [],
      "source": [
        "import os\n",
        "os.environ['MPLBACKEND'] = 'Agg'\n",
        "# Agora execute o seu script\n",
        "# !python /content/VirtuDockDL/app.py"
      ]
    },
    {
      "cell_type": "code",
      "source": [
        "!python3.9 /content/VirtuDockDL/app.py"
      ],
      "metadata": {
        "id": "cidF3KDsk-2N"
      },
      "execution_count": null,
      "outputs": []
    }
  ],
  "metadata": {
    "accelerator": "GPU",
    "colab": {
      "gpuType": "T4",
      "provenance": []
    },
    "kernelspec": {
      "display_name": "Python 3",
      "name": "python3"
    },
    "language_info": {
      "name": "python"
    }
  },
  "nbformat": 4,
  "nbformat_minor": 0
}